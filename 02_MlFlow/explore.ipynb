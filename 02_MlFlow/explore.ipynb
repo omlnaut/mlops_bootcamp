{
 "cells": [
  {
   "cell_type": "code",
   "execution_count": 2,
   "metadata": {},
   "outputs": [],
   "source": [
    "import pandas as pd\n",
    "from pathlib import Path"
   ]
  },
  {
   "cell_type": "code",
   "execution_count": 3,
   "metadata": {},
   "outputs": [
    {
     "data": {
      "text/plain": [
       "<Experiment: artifact_location='/workspaces/mlops_bootcamp/02_MlFlow/mlruns/1', creation_time=1728846188156, experiment_id='1', last_update_time=1728846188156, lifecycle_stage='active', name='nyc-taxi-experiment', tags={}>"
      ]
     },
     "execution_count": 3,
     "metadata": {},
     "output_type": "execute_result"
    }
   ],
   "source": [
    "import mlflow\n",
    "\n",
    "mlflow.set_tracking_uri(\"sqlite:///mlflow.db\")\n",
    "mlflow.set_experiment(\"nyc-taxi-experiment\")"
   ]
  },
  {
   "cell_type": "code",
   "execution_count": 4,
   "metadata": {},
   "outputs": [],
   "source": [
    "DATA = Path(\"data\")\n",
    "MODELS = Path(\"models\")\n",
    "train_path = DATA / \"green_tripdata_2024-01.parquet\"\n",
    "validation_path = DATA / \"green_tripdata_2024-02.parquet\""
   ]
  },
  {
   "cell_type": "code",
   "execution_count": 5,
   "metadata": {},
   "outputs": [],
   "source": [
    "def load_dataset(path: Path) -> tuple[pd.DataFrame, pd.Series]:\n",
    "    df = pd.read_parquet(path)\n",
    "    df[\"duration\"] = (df.lpep_dropoff_datetime - df.lpep_pickup_datetime).dt.total_seconds() / 60\n",
    "    df['pickup_location'] = df.PULocationID.astype('string')\n",
    "    df['dropoff_location'] = df.DOLocationID.astype('string')\n",
    "\n",
    "    categoricals = [\"pickup_location\", \"dropoff_location\"]\n",
    "    numericals = [\"trip_distance\"]\n",
    "    target = \"duration\"\n",
    "    outlier_high = df[target].quantile(0.995)\n",
    "    n_before = df.shape[0]\n",
    "    df = df[(df[target] < outlier_high)]\n",
    "    n_after = df.shape[0]\n",
    "\n",
    "    print(f\"Removed {(n_before - n_after) / n_before * 100:.3f}% outliers at threshold {outlier_high}\")\n",
    "\n",
    "    x = df[categoricals + numericals]\n",
    "    y = df[target]\n",
    "\n",
    "    return x, y"
   ]
  },
  {
   "cell_type": "code",
   "execution_count": 6,
   "metadata": {},
   "outputs": [
    {
     "name": "stdout",
     "output_type": "stream",
     "text": [
      "Removed 0.500% outliers at threshold 94.2875\n",
      "Removed 0.500% outliers at threshold 108.1053333333338\n"
     ]
    }
   ],
   "source": [
    "train_x, train_y = load_dataset(train_path)\n",
    "val_x, val_y = load_dataset(validation_path)"
   ]
  },
  {
   "cell_type": "code",
   "execution_count": 7,
   "metadata": {},
   "outputs": [],
   "source": [
    "from sklearn.feature_extraction import DictVectorizer"
   ]
  },
  {
   "cell_type": "code",
   "execution_count": 8,
   "metadata": {},
   "outputs": [],
   "source": [
    "dv = DictVectorizer()\n",
    "x = dv.fit_transform(train_x.to_dict(orient=\"records\"))\n",
    "x_val = dv.transform(val_x.to_dict(orient=\"records\")) # type: ignore"
   ]
  },
  {
   "cell_type": "code",
   "execution_count": 9,
   "metadata": {},
   "outputs": [],
   "source": [
    "from sklearn.linear_model import LinearRegression\n",
    "from sklearn.metrics import mean_absolute_error\n",
    "\n",
    "with mlflow.start_run():\n",
    "    mlflow.set_tag(\"description\", \"linear regression model to predict NYC taxi duration\")\n",
    "    mlflow.log_param(\"training dataset\", train_path)\n",
    "    mlflow.log_param(\"validation dataset\", validation_path)\n",
    "\n",
    "    lr = LinearRegression()\n",
    "    lr.fit(x, train_y)\n",
    "    y_pred = lr.predict(x)\n",
    "\n",
    "    mae: float = mean_absolute_error(train_y, y_pred).item() # type: ignore\n",
    "\n",
    "    mlflow.log_metric(\"mae\", mae)"
   ]
  },
  {
   "cell_type": "code",
   "execution_count": 10,
   "metadata": {},
   "outputs": [
    {
     "data": {
      "text/plain": [
       "<Axes: >"
      ]
     },
     "execution_count": 10,
     "metadata": {},
     "output_type": "execute_result"
    },
    {
     "data": {
      "image/png": "[encoded data removed]",
      "text/plain": [
       "<Figure size 640x480 with 1 Axes>"
      ]
     },
     "metadata": {},
     "output_type": "display_data"
    }
   ],
   "source": [
    "train_y.hist()"
   ]
  },
  {
   "cell_type": "code",
   "execution_count": 11,
   "metadata": {},
   "outputs": [],
   "source": [
    "import pickle\n",
    "\n",
    "with open(MODELS/\"model.bin\", \"wb\") as f_out:\n",
    "    pickle.dump((dv, lr), f_out)\n"
   ]
  },
  {
   "cell_type": "markdown",
   "metadata": {},
   "source": [
    "# XGBoost"
   ]
  },
  {
   "cell_type": "code",
   "execution_count": 12,
   "metadata": {},
   "outputs": [],
   "source": [
    "import xgboost as xgb"
   ]
  },
  {
   "cell_type": "code",
   "execution_count": 13,
   "metadata": {},
   "outputs": [],
   "source": [
    "dtrain = xgb.DMatrix(x, label=train_y)\n",
    "dval = xgb.DMatrix(x_val, label=val_y)"
   ]
  },
  {
   "cell_type": "code",
   "execution_count": 14,
   "metadata": {},
   "outputs": [],
   "source": [
    "from hyperopt import fmin, tpe, hp, STATUS_OK, Trials\n",
    "from hyperopt.pyll import scope\n",
    "\n",
    "def objective(params):\n",
    "    with mlflow.start_run():\n",
    "        mlflow.set_tag(\"model\", \"xgboost\")\n",
    "        mlflow.log_params(params)\n",
    "\n",
    "        booster = xgb.train(\n",
    "            params=params,\n",
    "            dtrain=dtrain,\n",
    "            num_boost_round=250,\n",
    "            evals=[(dval, \"validation\")],\n",
    "            early_stopping_rounds=10\n",
    "        )\n",
    "\n",
    "        y_pred = booster.predict(dval)\n",
    "        mae : float = mean_absolute_error(y_pred=y_pred, y_true=val_y) # type: ignore\n",
    "\n",
    "        mlflow.log_metric(\"rmse\", mae)\n",
    "\n",
    "    return {'loss': mae, 'status': STATUS_OK}"
   ]
  },
  {
   "cell_type": "code",
   "execution_count": 15,
   "metadata": {},
   "outputs": [],
   "source": [
    "search_space = {\n",
    "    'max_depth': scope.int(hp.quniform('max_depth', 4, 100, 1)),\n",
    "    'learning_rate': hp.loguniform(\"learning_rate\", -3, 0),\n",
    "    'reg_alpha': hp.loguniform(\"reg_alpha\", -5, -1),\n",
    "    'reg_lambda': hp.loguniform(\"reg_lambda\", -6, -1),\n",
    "    'min_child_weight': hp.loguniform(\"min_child_weight\", -1, 3),\n",
    "    'objective': 'reg:squarederror',\n",
    "    'seed': 42\n",
    "}"
   ]
  },
  {
   "cell_type": "code",
   "execution_count": 16,
   "metadata": {},
   "outputs": [],
   "source": [
    "# best_result = fmin(\n",
    "#     fn=objective,\n",
    "#     space=search_space,\n",
    "#     algo=tpe.suggest,\n",
    "#     max_evals=25,\n",
    "#     trials=Trials()\n",
    "# )"
   ]
  },
  {
   "cell_type": "code",
   "execution_count": 17,
   "metadata": {},
   "outputs": [
    {
     "name": "stdout",
     "output_type": "stream",
     "text": [
      "[0]\tvalidation-rmse:9.70073\n"
     ]
    },
    {
     "name": "stdout",
     "output_type": "stream",
     "text": [
      "[1]\tvalidation-rmse:9.12282\n",
      "[2]\tvalidation-rmse:8.64232\n",
      "[3]\tvalidation-rmse:8.24550\n",
      "[4]\tvalidation-rmse:7.90824\n",
      "[5]\tvalidation-rmse:7.63951\n",
      "[6]\tvalidation-rmse:7.41508\n",
      "[7]\tvalidation-rmse:7.22652\n",
      "[8]\tvalidation-rmse:7.07637\n",
      "[9]\tvalidation-rmse:6.95233\n",
      "[10]\tvalidation-rmse:6.85211\n",
      "[11]\tvalidation-rmse:6.76422\n",
      "[12]\tvalidation-rmse:6.69811\n",
      "[13]\tvalidation-rmse:6.63846\n",
      "[14]\tvalidation-rmse:6.59092\n",
      "[15]\tvalidation-rmse:6.55368\n",
      "[16]\tvalidation-rmse:6.52038\n",
      "[17]\tvalidation-rmse:6.49219\n",
      "[18]\tvalidation-rmse:6.46682\n",
      "[19]\tvalidation-rmse:6.44379\n",
      "[20]\tvalidation-rmse:6.42606\n",
      "[21]\tvalidation-rmse:6.40572\n",
      "[22]\tvalidation-rmse:6.39288\n",
      "[23]\tvalidation-rmse:6.38162\n",
      "[24]\tvalidation-rmse:6.37092\n",
      "[25]\tvalidation-rmse:6.36073\n",
      "[26]\tvalidation-rmse:6.35260\n",
      "[27]\tvalidation-rmse:6.34607\n",
      "[28]\tvalidation-rmse:6.33414\n",
      "[29]\tvalidation-rmse:6.32592\n",
      "[30]\tvalidation-rmse:6.32189\n",
      "[31]\tvalidation-rmse:6.31477\n",
      "[32]\tvalidation-rmse:6.30956\n",
      "[33]\tvalidation-rmse:6.30394\n",
      "[34]\tvalidation-rmse:6.29943\n",
      "[35]\tvalidation-rmse:6.29174\n",
      "[36]\tvalidation-rmse:6.28733\n",
      "[37]\tvalidation-rmse:6.28343\n",
      "[38]\tvalidation-rmse:6.27877\n",
      "[39]\tvalidation-rmse:6.27428\n",
      "[40]\tvalidation-rmse:6.27055\n",
      "[41]\tvalidation-rmse:6.26532\n",
      "[42]\tvalidation-rmse:6.26130\n",
      "[43]\tvalidation-rmse:6.25450\n",
      "[44]\tvalidation-rmse:6.25208\n",
      "[45]\tvalidation-rmse:6.24744\n",
      "[46]\tvalidation-rmse:6.24193\n",
      "[47]\tvalidation-rmse:6.23831\n",
      "[48]\tvalidation-rmse:6.23461\n",
      "[49]\tvalidation-rmse:6.23279\n",
      "[50]\tvalidation-rmse:6.22744\n",
      "[51]\tvalidation-rmse:6.22660\n",
      "[52]\tvalidation-rmse:6.22136\n",
      "[53]\tvalidation-rmse:6.21707\n",
      "[54]\tvalidation-rmse:6.21482\n",
      "[55]\tvalidation-rmse:6.21237\n",
      "[56]\tvalidation-rmse:6.20659\n",
      "[57]\tvalidation-rmse:6.20324\n",
      "[58]\tvalidation-rmse:6.19984\n",
      "[59]\tvalidation-rmse:6.19819\n",
      "[60]\tvalidation-rmse:6.19619\n",
      "[61]\tvalidation-rmse:6.19338\n",
      "[62]\tvalidation-rmse:6.19206\n",
      "[63]\tvalidation-rmse:6.19107\n",
      "[64]\tvalidation-rmse:6.18777\n",
      "[65]\tvalidation-rmse:6.18640\n",
      "[66]\tvalidation-rmse:6.18493\n",
      "[67]\tvalidation-rmse:6.18159\n",
      "[68]\tvalidation-rmse:6.18026\n",
      "[69]\tvalidation-rmse:6.17794\n",
      "[70]\tvalidation-rmse:6.17619\n",
      "[71]\tvalidation-rmse:6.17385\n",
      "[72]\tvalidation-rmse:6.17064\n",
      "[73]\tvalidation-rmse:6.16863\n",
      "[74]\tvalidation-rmse:6.16725\n",
      "[75]\tvalidation-rmse:6.16418\n",
      "[76]\tvalidation-rmse:6.16252\n",
      "[77]\tvalidation-rmse:6.16112\n",
      "[78]\tvalidation-rmse:6.16033\n",
      "[79]\tvalidation-rmse:6.15937\n",
      "[80]\tvalidation-rmse:6.15665\n",
      "[81]\tvalidation-rmse:6.15358\n",
      "[82]\tvalidation-rmse:6.15225\n",
      "[83]\tvalidation-rmse:6.15204\n",
      "[84]\tvalidation-rmse:6.15145\n",
      "[85]\tvalidation-rmse:6.14813\n",
      "[86]\tvalidation-rmse:6.14696\n",
      "[87]\tvalidation-rmse:6.14648\n",
      "[88]\tvalidation-rmse:6.14174\n",
      "[89]\tvalidation-rmse:6.14071\n",
      "[90]\tvalidation-rmse:6.13432\n",
      "[91]\tvalidation-rmse:6.13346\n",
      "[92]\tvalidation-rmse:6.13167\n",
      "[93]\tvalidation-rmse:6.12855\n",
      "[94]\tvalidation-rmse:6.12587\n",
      "[95]\tvalidation-rmse:6.12545\n",
      "[96]\tvalidation-rmse:6.12446\n",
      "[97]\tvalidation-rmse:6.12427\n",
      "[98]\tvalidation-rmse:6.12067\n",
      "[99]\tvalidation-rmse:6.11942\n",
      "[100]\tvalidation-rmse:6.11951\n",
      "[101]\tvalidation-rmse:6.11878\n",
      "[102]\tvalidation-rmse:6.11284\n",
      "[103]\tvalidation-rmse:6.10948\n",
      "[104]\tvalidation-rmse:6.10831\n",
      "[105]\tvalidation-rmse:6.10726\n",
      "[106]\tvalidation-rmse:6.10552\n",
      "[107]\tvalidation-rmse:6.10448\n",
      "[108]\tvalidation-rmse:6.10359\n",
      "[109]\tvalidation-rmse:6.10355\n",
      "[110]\tvalidation-rmse:6.10295\n",
      "[111]\tvalidation-rmse:6.10288\n",
      "[112]\tvalidation-rmse:6.10166\n",
      "[113]\tvalidation-rmse:6.10088\n",
      "[114]\tvalidation-rmse:6.10064\n",
      "[115]\tvalidation-rmse:6.10010\n",
      "[116]\tvalidation-rmse:6.09854\n",
      "[117]\tvalidation-rmse:6.09651\n",
      "[118]\tvalidation-rmse:6.09506\n",
      "[119]\tvalidation-rmse:6.09385\n",
      "[120]\tvalidation-rmse:6.09104\n",
      "[121]\tvalidation-rmse:6.08961\n",
      "[122]\tvalidation-rmse:6.08743\n",
      "[123]\tvalidation-rmse:6.08653\n",
      "[124]\tvalidation-rmse:6.08622\n",
      "[125]\tvalidation-rmse:6.08663\n",
      "[126]\tvalidation-rmse:6.08656\n",
      "[127]\tvalidation-rmse:6.08539\n",
      "[128]\tvalidation-rmse:6.08353\n",
      "[129]\tvalidation-rmse:6.08102\n",
      "[130]\tvalidation-rmse:6.07970\n",
      "[131]\tvalidation-rmse:6.07932\n",
      "[132]\tvalidation-rmse:6.07671\n",
      "[133]\tvalidation-rmse:6.07611\n",
      "[134]\tvalidation-rmse:6.07582\n",
      "[135]\tvalidation-rmse:6.07462\n",
      "[136]\tvalidation-rmse:6.07424\n",
      "[137]\tvalidation-rmse:6.07399\n",
      "[138]\tvalidation-rmse:6.07417\n",
      "[139]\tvalidation-rmse:6.07423\n",
      "[140]\tvalidation-rmse:6.07222\n",
      "[141]\tvalidation-rmse:6.07190\n",
      "[142]\tvalidation-rmse:6.07084\n",
      "[143]\tvalidation-rmse:6.07062\n",
      "[144]\tvalidation-rmse:6.06595\n",
      "[145]\tvalidation-rmse:6.06441\n",
      "[146]\tvalidation-rmse:6.06316\n",
      "[147]\tvalidation-rmse:6.06254\n",
      "[148]\tvalidation-rmse:6.06237\n",
      "[149]\tvalidation-rmse:6.06109\n",
      "[150]\tvalidation-rmse:6.06115\n",
      "[151]\tvalidation-rmse:6.06104\n",
      "[152]\tvalidation-rmse:6.06140\n",
      "[153]\tvalidation-rmse:6.06007\n",
      "[154]\tvalidation-rmse:6.06017\n",
      "[155]\tvalidation-rmse:6.06000\n",
      "[156]\tvalidation-rmse:6.06012\n",
      "[157]\tvalidation-rmse:6.05736\n",
      "[158]\tvalidation-rmse:6.05672\n",
      "[159]\tvalidation-rmse:6.05529\n",
      "[160]\tvalidation-rmse:6.05493\n",
      "[161]\tvalidation-rmse:6.05493\n",
      "[162]\tvalidation-rmse:6.05428\n",
      "[163]\tvalidation-rmse:6.05433\n",
      "[164]\tvalidation-rmse:6.05345\n",
      "[165]\tvalidation-rmse:6.05317\n",
      "[166]\tvalidation-rmse:6.05285\n",
      "[167]\tvalidation-rmse:6.05203\n",
      "[168]\tvalidation-rmse:6.05174\n",
      "[169]\tvalidation-rmse:6.05126\n",
      "[170]\tvalidation-rmse:6.05107\n",
      "[171]\tvalidation-rmse:6.05151\n",
      "[172]\tvalidation-rmse:6.05022\n",
      "[173]\tvalidation-rmse:6.05080\n",
      "[174]\tvalidation-rmse:6.05095\n",
      "[175]\tvalidation-rmse:6.04828\n",
      "[176]\tvalidation-rmse:6.04827\n",
      "[177]\tvalidation-rmse:6.04787\n",
      "[178]\tvalidation-rmse:6.04838\n",
      "[179]\tvalidation-rmse:6.04704\n",
      "[180]\tvalidation-rmse:6.04488\n",
      "[181]\tvalidation-rmse:6.04536\n",
      "[182]\tvalidation-rmse:6.04481\n",
      "[183]\tvalidation-rmse:6.04486\n",
      "[184]\tvalidation-rmse:6.04464\n",
      "[185]\tvalidation-rmse:6.04292\n",
      "[186]\tvalidation-rmse:6.04162\n",
      "[187]\tvalidation-rmse:6.04141\n",
      "[188]\tvalidation-rmse:6.04114\n",
      "[189]\tvalidation-rmse:6.04045\n",
      "[190]\tvalidation-rmse:6.04028\n",
      "[191]\tvalidation-rmse:6.03989\n",
      "[192]\tvalidation-rmse:6.03968\n",
      "[193]\tvalidation-rmse:6.04026\n",
      "[194]\tvalidation-rmse:6.03977\n",
      "[195]\tvalidation-rmse:6.04013\n",
      "[196]\tvalidation-rmse:6.03915\n",
      "[197]\tvalidation-rmse:6.03932\n",
      "[198]\tvalidation-rmse:6.03853\n",
      "[199]\tvalidation-rmse:6.03892\n",
      "[200]\tvalidation-rmse:6.03893\n",
      "[201]\tvalidation-rmse:6.03871\n",
      "[202]\tvalidation-rmse:6.03876\n",
      "[203]\tvalidation-rmse:6.03885\n",
      "[204]\tvalidation-rmse:6.03753\n",
      "[205]\tvalidation-rmse:6.03785\n",
      "[206]\tvalidation-rmse:6.03773\n",
      "[207]\tvalidation-rmse:6.03770\n",
      "[208]\tvalidation-rmse:6.03557\n",
      "[209]\tvalidation-rmse:6.03538\n",
      "[210]\tvalidation-rmse:6.03575\n",
      "[211]\tvalidation-rmse:6.03625\n",
      "[212]\tvalidation-rmse:6.03416\n",
      "[213]\tvalidation-rmse:6.03438\n",
      "[214]\tvalidation-rmse:6.03415\n",
      "[215]\tvalidation-rmse:6.03285\n",
      "[216]\tvalidation-rmse:6.03244\n",
      "[217]\tvalidation-rmse:6.03263\n",
      "[218]\tvalidation-rmse:6.03227\n",
      "[219]\tvalidation-rmse:6.03265\n",
      "[220]\tvalidation-rmse:6.03326\n",
      "[221]\tvalidation-rmse:6.03320\n",
      "[222]\tvalidation-rmse:6.03335\n",
      "[223]\tvalidation-rmse:6.03327\n",
      "[224]\tvalidation-rmse:6.03225\n",
      "[225]\tvalidation-rmse:6.03167\n",
      "[226]\tvalidation-rmse:6.03176\n",
      "[227]\tvalidation-rmse:6.03174\n",
      "[228]\tvalidation-rmse:6.03148\n",
      "[229]\tvalidation-rmse:6.03149\n",
      "[230]\tvalidation-rmse:6.03081\n",
      "[231]\tvalidation-rmse:6.02799\n",
      "[232]\tvalidation-rmse:6.02830\n",
      "[233]\tvalidation-rmse:6.02822\n",
      "[234]\tvalidation-rmse:6.02699\n",
      "[235]\tvalidation-rmse:6.02636\n",
      "[236]\tvalidation-rmse:6.02627\n",
      "[237]\tvalidation-rmse:6.02642\n",
      "[238]\tvalidation-rmse:6.02680\n",
      "[239]\tvalidation-rmse:6.02679\n",
      "[240]\tvalidation-rmse:6.02659\n",
      "[241]\tvalidation-rmse:6.02662\n",
      "[242]\tvalidation-rmse:6.02652\n",
      "[243]\tvalidation-rmse:6.02444\n",
      "[244]\tvalidation-rmse:6.02463\n",
      "[245]\tvalidation-rmse:6.02518\n",
      "[246]\tvalidation-rmse:6.02468\n",
      "[247]\tvalidation-rmse:6.02419\n",
      "[248]\tvalidation-rmse:6.02340\n",
      "[249]\tvalidation-rmse:6.02369\n"
     ]
    }
   ],
   "source": [
    "# train a model with best hyperparameters:\n",
    "# learning_rate\n",
    "# 0.11514405088919788\n",
    "# max_depth\n",
    "# 13\n",
    "# min_child_weight\n",
    "# 2.7153540464952473\n",
    "# objective\n",
    "# reg:squarederror\n",
    "# reg_alpha\n",
    "# 0.029747269257421043\n",
    "# reg_lambda\n",
    "# 0.008841960840607838\n",
    "\n",
    "model = xgb.train(\n",
    "    params={\n",
    "        'learning_rate': 0.11514405088919788,\n",
    "        'max_depth': 13,\n",
    "        'min_child_weight': 2.7153540464952473,\n",
    "        'objective': 'reg:squarederror',\n",
    "        'reg_alpha': 0.029747269257421043,\n",
    "        'reg_lambda': 0.008841960840607838\n",
    "    },\n",
    "    dtrain=dtrain,\n",
    "    num_boost_round=250,\n",
    "    evals=[(dval, \"validation\")],\n",
    "    early_stopping_rounds=10\n",
    ")\n",
    "y_pred = model.predict(dval)\n",
    "mae : float = mean_absolute_error(y_pred=y_pred, y_true=val_y) # type: ignore"
   ]
  },
  {
   "cell_type": "code",
   "execution_count": 18,
   "metadata": {},
   "outputs": [
    {
     "data": {
      "text/plain": [
       "np.float64(3.424704038195641)"
      ]
     },
     "execution_count": 18,
     "metadata": {},
     "output_type": "execute_result"
    }
   ],
   "source": [
    "mae"
   ]
  },
  {
   "cell_type": "code",
   "execution_count": null,
   "metadata": {},
   "outputs": [],
   "source": []
  }
 ],
 "metadata": {
  "kernelspec": {
   "display_name": "Python 3",
   "language": "python",
   "name": "python3"
  },
  "language_info": {
   "codemirror_mode": {
    "name": "ipython",
    "version": 3
   },
   "file_extension": ".py",
   "mimetype": "text/x-python",
   "name": "python",
   "nbconvert_exporter": "python",
   "pygments_lexer": "ipython3",
   "version": "3.10.15"
  }
 },
 "nbformat": 4,
 "nbformat_minor": 2
}
