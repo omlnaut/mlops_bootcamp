{
 "cells": [
  {
   "cell_type": "code",
   "execution_count": 1,
   "metadata": {},
   "outputs": [],
   "source": [
    "import pandas as pd\n",
    "from pathlib import Path"
   ]
  },
  {
   "cell_type": "code",
   "execution_count": 2,
   "metadata": {},
   "outputs": [],
   "source": [
    "DATA = Path(\"data\")\n",
    "train_path = DATA / \"green_tripdata_2024-01.parquet\"\n",
    "validation_path = DATA / \"green_tripdata_2024-02.parquet\""
   ]
  },
  {
   "cell_type": "code",
   "execution_count": 17,
   "metadata": {},
   "outputs": [],
   "source": [
    "def load_dataset(path: Path) -> tuple[pd.DataFrame, pd.Series]:\n",
    "    df = pd.read_parquet(path)\n",
    "    df[\"duration\"] = (df.lpep_dropoff_datetime - df.lpep_pickup_datetime).dt.total_seconds() / 60\n",
    "    df['pickup_location'] = df.PULocationID.astype('string')\n",
    "    df['dropoff_location'] = df.DOLocationID.astype('string')\n",
    "\n",
    "    categoricals = [\"pickup_location\", \"dropoff_location\"]\n",
    "    numericals = [\"trip_distance\"]\n",
    "    target = \"duration\"\n",
    "\n",
    "    x = df[categoricals + numericals]\n",
    "    y = df[target]\n",
    "\n",
    "    return x, y"
   ]
  },
  {
   "cell_type": "code",
   "execution_count": 18,
   "metadata": {},
   "outputs": [],
   "source": [
    "train_x, train_y = load_dataset(train_path)\n",
    "val_x, val_y = load_dataset(validation_path)"
   ]
  },
  {
   "cell_type": "code",
   "execution_count": 19,
   "metadata": {},
   "outputs": [],
   "source": [
    "from sklearn.feature_extraction import DictVectorizer"
   ]
  },
  {
   "cell_type": "code",
   "execution_count": 20,
   "metadata": {},
   "outputs": [
    {
     "data": {
      "text/plain": [
       "[{'pickup_location': '236', 'dropoff_location': '239', 'trip_distance': 1.98},\n",
       " {'pickup_location': '65', 'dropoff_location': '170', 'trip_distance': 6.54},\n",
       " {'pickup_location': '74', 'dropoff_location': '262', 'trip_distance': 3.08},\n",
       " {'pickup_location': '74', 'dropoff_location': '116', 'trip_distance': 2.4},\n",
       " {'pickup_location': '74', 'dropoff_location': '243', 'trip_distance': 5.14},\n",
       " {'pickup_location': '33', 'dropoff_location': '209', 'trip_distance': 2.0},\n",
       " {'pickup_location': '74', 'dropoff_location': '238', 'trip_distance': 3.2},\n",
       " {'pickup_location': '166', 'dropoff_location': '239', 'trip_distance': 2.01},\n",
       " {'pickup_location': '226', 'dropoff_location': '226', 'trip_distance': 0.31},\n",
       " {'pickup_location': '7', 'dropoff_location': '129', 'trip_distance': 2.32}]"
      ]
     },
     "execution_count": 20,
     "metadata": {},
     "output_type": "execute_result"
    }
   ],
   "source": [
    "train_x.iloc[:10].to_dict(orient=\"records\")"
   ]
  },
  {
   "cell_type": "code",
   "execution_count": 21,
   "metadata": {},
   "outputs": [],
   "source": [
    "dv = DictVectorizer()\n",
    "x = dv.fit_transform(train_x.iloc[:10].to_dict(orient=\"records\"))"
   ]
  },
  {
   "cell_type": "code",
   "execution_count": 23,
   "metadata": {},
   "outputs": [
    {
     "data": {
      "text/plain": [
       "{'pickup_location=236': 11,\n",
       " 'dropoff_location=239': 6,\n",
       " 'trip_distance': 16,\n",
       " 'pickup_location=65': 13,\n",
       " 'dropoff_location=170': 2,\n",
       " 'pickup_location=74': 15,\n",
       " 'dropoff_location=262': 8,\n",
       " 'dropoff_location=116': 0,\n",
       " 'dropoff_location=243': 7,\n",
       " 'pickup_location=33': 12,\n",
       " 'dropoff_location=209': 3,\n",
       " 'dropoff_location=238': 5,\n",
       " 'pickup_location=166': 9,\n",
       " 'pickup_location=226': 10,\n",
       " 'dropoff_location=226': 4,\n",
       " 'pickup_location=7': 14,\n",
       " 'dropoff_location=129': 1}"
      ]
     },
     "execution_count": 23,
     "metadata": {},
     "output_type": "execute_result"
    }
   ],
   "source": [
    "dv.vocabulary_"
   ]
  },
  {
   "cell_type": "code",
   "execution_count": 24,
   "metadata": {},
   "outputs": [
    {
     "data": {
      "text/plain": [
       "<Compressed Sparse Row sparse matrix of dtype 'float64'\n",
       "\twith 30 stored elements and shape (10, 17)>"
      ]
     },
     "execution_count": 24,
     "metadata": {},
     "output_type": "execute_result"
    }
   ],
   "source": [
    "x."
   ]
  },
  {
   "cell_type": "code",
   "execution_count": null,
   "metadata": {},
   "outputs": [],
   "source": []
  }
 ],
 "metadata": {
  "kernelspec": {
   "display_name": "Python 3",
   "language": "python",
   "name": "python3"
  },
  "language_info": {
   "codemirror_mode": {
    "name": "ipython",
    "version": 3
   },
   "file_extension": ".py",
   "mimetype": "text/x-python",
   "name": "python",
   "nbconvert_exporter": "python",
   "pygments_lexer": "ipython3",
   "version": "3.10.15"
  }
 },
 "nbformat": 4,
 "nbformat_minor": 2
}
