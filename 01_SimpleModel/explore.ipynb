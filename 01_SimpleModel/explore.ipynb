{
 "cells": [
  {
   "cell_type": "code",
   "execution_count": 48,
   "metadata": {},
   "outputs": [],
   "source": [
    "import pandas as pd\n",
    "from pathlib import Path"
   ]
  },
  {
   "cell_type": "code",
   "execution_count": 66,
   "metadata": {},
   "outputs": [],
   "source": [
    "DATA = Path(\"data\")\n",
    "MODELS = Path(\"models\")\n",
    "train_path = DATA / \"green_tripdata_2024-01.parquet\"\n",
    "validation_path = DATA / \"green_tripdata_2024-02.parquet\""
   ]
  },
  {
   "cell_type": "code",
   "execution_count": 59,
   "metadata": {},
   "outputs": [],
   "source": [
    "def load_dataset(path: Path) -> tuple[pd.DataFrame, pd.Series]:\n",
    "    df = pd.read_parquet(path)\n",
    "    df[\"duration\"] = (df.lpep_dropoff_datetime - df.lpep_pickup_datetime).dt.total_seconds() / 60\n",
    "    df['pickup_location'] = df.PULocationID.astype('string')\n",
    "    df['dropoff_location'] = df.DOLocationID.astype('string')\n",
    "\n",
    "    categoricals = [\"pickup_location\", \"dropoff_location\"]\n",
    "    numericals = [\"trip_distance\"]\n",
    "    target = \"duration\"\n",
    "    outlier_high = df[target].quantile(0.995)\n",
    "    n_before = df.shape[0]\n",
    "    df = df[(df[target] < outlier_high)]\n",
    "    n_after = df.shape[0]\n",
    "\n",
    "    print(f\"Removed {(n_before - n_after) / n_before * 100:.3f}% outliers at threshold {outlier_high}\")\n",
    "\n",
    "    x = df[categoricals + numericals]\n",
    "    y = df[target]\n",
    "\n",
    "    return x, y"
   ]
  },
  {
   "cell_type": "code",
   "execution_count": 60,
   "metadata": {},
   "outputs": [
    {
     "name": "stdout",
     "output_type": "stream",
     "text": [
      "Removed 0.500% outliers at threshold 94.2875\n",
      "Removed 0.500% outliers at threshold 108.1053333333338\n"
     ]
    }
   ],
   "source": [
    "train_x, train_y = load_dataset(train_path)\n",
    "val_x, val_y = load_dataset(validation_path)"
   ]
  },
  {
   "cell_type": "code",
   "execution_count": 61,
   "metadata": {},
   "outputs": [],
   "source": [
    "from sklearn.feature_extraction import DictVectorizer"
   ]
  },
  {
   "cell_type": "code",
   "execution_count": 62,
   "metadata": {},
   "outputs": [],
   "source": [
    "dv = DictVectorizer()\n",
    "x = dv.fit_transform(train_x.to_dict(orient=\"records\"))"
   ]
  },
  {
   "cell_type": "code",
   "execution_count": 63,
   "metadata": {},
   "outputs": [
    {
     "data": {
      "text/plain": [
       "np.float64(5.254042755539002)"
      ]
     },
     "execution_count": 63,
     "metadata": {},
     "output_type": "execute_result"
    }
   ],
   "source": [
    "from sklearn.linear_model import LinearRegression\n",
    "from sklearn.metrics import mean_absolute_error\n",
    "\n",
    "lr = LinearRegression()\n",
    "lr.fit(x, train_y)\n",
    "y_pred = lr.predict(x)\n",
    "\n",
    "mean_absolute_error(train_y, y_pred)"
   ]
  },
  {
   "cell_type": "code",
   "execution_count": 64,
   "metadata": {},
   "outputs": [
    {
     "data": {
      "text/plain": [
       "<Axes: >"
      ]
     },
     "execution_count": 64,
     "metadata": {},
     "output_type": "execute_result"
    },
    {
     "data": {
      "image/png": "[encoded data removed]",
      "text/plain": [
       "<Figure size 640x480 with 1 Axes>"
      ]
     },
     "metadata": {},
     "output_type": "display_data"
    }
   ],
   "source": [
    "train_y.hist()"
   ]
  },
  {
   "cell_type": "code",
   "execution_count": 67,
   "metadata": {},
   "outputs": [],
   "source": [
    "import pickle\n",
    "\n",
    "with open(\"model.bin\", \"wb\") as f_out:\n",
    "    pickle.dump((dv, lr), f_out)\n"
   ]
  },
  {
   "cell_type": "code",
   "execution_count": null,
   "metadata": {},
   "outputs": [],
   "source": []
  }
 ],
 "metadata": {
  "kernelspec": {
   "display_name": "Python 3",
   "language": "python",
   "name": "python3"
  },
  "language_info": {
   "codemirror_mode": {
    "name": "ipython",
    "version": 3
   },
   "file_extension": ".py",
   "mimetype": "text/x-python",
   "name": "python",
   "nbconvert_exporter": "python",
   "pygments_lexer": "ipython3",
   "version": "3.10.15"
  }
 },
 "nbformat": 4,
 "nbformat_minor": 2
}
